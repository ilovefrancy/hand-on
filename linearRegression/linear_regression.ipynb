{
 "cells": [
  {
   "cell_type": "code",
   "execution_count": 10,
   "metadata": {},
   "outputs": [
    {
     "name": "stdout",
     "output_type": "stream",
     "text": [
      "[[320.6497]]\n",
      "[[267.78183]]\n"
     ]
    }
   ],
   "source": [
    "import tensorflow as tf\n",
    "\n",
    "# Initialization and definition\n",
    "\n",
    "W = tf.Variable(tf.zeros([2, 1]), name=\"weights\")\n",
    "b = tf.Variable(0., name=\"bias\")\n",
    "\n",
    "def inference(X):\n",
    "    # \n",
    "    return tf.matmul(X, W) + b\n",
    "\n",
    "def loss(X, Y):\n",
    "    # loss function\n",
    "    Y_predicted = inference(X)\n",
    "    return tf.reduce_sum(tf.squared_difference(Y, Y_predicted))\n",
    "    \n",
    "def inputs():\n",
    "    # read data\n",
    "    weight_age = [[84, 46], [73,20], [65,52],[70,30],[76,57],[69,25],[63,28],\n",
    "                [72,36],[79,57],[75,44],[27,24],[89,31],[65,52],[57,23],[59,60],\n",
    "                [69,48],[60,34],[79,51],[75,50],[82,34],[59,46],[67,23],[85,37],[55,40],[63,30]]\n",
    "    blood_fat_content = [354,190,405,263,451,302,288,385,402,365,209,290,346,254,395,434,220,374,308,220,311,181,274,303,244]\n",
    "    \n",
    "    return tf.to_float(weight_age), tf.to_float(blood_fat_content)\n",
    "    \n",
    "def train(total_loss):\n",
    "    # training\n",
    "    learning_rate = 0.0000001\n",
    "    return tf.train.GradientDescentOptimizer(learning_rate).minimize(total_loss)\n",
    "    \n",
    "def evaluate(sess, X, Y):\n",
    "    # evaluate trained model\n",
    "    print(sess.run(inference([[80., 25.]])))\n",
    "    print(sess.run(inference([[65., 25.]])))\n",
    "    \n",
    "# tensorflow worflow\n",
    "with tf.Session() as sess:\n",
    "    tf.global_variables_initializer().run()\n",
    "    \n",
    "    X, Y = inputs()\n",
    "    \n",
    "    total_loss = loss(X, Y)\n",
    "    train_op = train(total_loss)\n",
    "    \n",
    "    coord = tf.train.Coordinator()\n",
    "    threads = tf.train.start_queue_runners(sess=sess, coord=coord)\n",
    "    \n",
    "    # iteration \n",
    "    training_steps = 1000\n",
    "    for step in range(training_steps):\n",
    "        sess.run([train_op])\n",
    "#        if step % 10 == 0:\n",
    "#            print (\"loss: \", sess.run([total_loss]))\n",
    "            \n",
    "    evaluate(sess, X, Y)\n",
    "    \n",
    "    coord.request_stop()\n",
    "    coord.join(threads)\n",
    "    sess.close()"
   ]
  },
  {
   "cell_type": "code",
   "execution_count": null,
   "metadata": {},
   "outputs": [],
   "source": []
  }
 ],
 "metadata": {
  "kernelspec": {
   "display_name": "Python 3",
   "language": "python",
   "name": "python3"
  },
  "language_info": {
   "codemirror_mode": {
    "name": "ipython",
    "version": 3
   },
   "file_extension": ".py",
   "mimetype": "text/x-python",
   "name": "python",
   "nbconvert_exporter": "python",
   "pygments_lexer": "ipython3",
   "version": "3.5.2"
  }
 },
 "nbformat": 4,
 "nbformat_minor": 2
}
